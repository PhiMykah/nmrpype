{
 "cells": [
  {
   "cell_type": "markdown",
   "metadata": {},
   "source": [
    "# TUTORIAL: Creating your Own Function"
   ]
  },
  {
   "cell_type": "markdown",
   "metadata": {},
   "source": [
    "Creating a function for nmrPype is made to be a relatively simple and modular process. For demonstrative purposes, I will describe the process of creating a new function called FLIP, which flips the order of the directly detected dimension of input data. This tutorial assumes that you have installed nmrPype [by source](https://github.com/PhiMykah/nmrpype?tab=readme-ov-file#building-from-source) rather than through pip."
   ]
  },
  {
   "cell_type": "markdown",
   "metadata": {},
   "source": [
    "## 1. Overview"
   ]
  },
  {
   "cell_type": "markdown",
   "metadata": {},
   "source": [
    "For creating the function, a new file will be created and the `__init__.py` file must be edited.\n",
    "Below is an outline of the file structure and what files to look at for creating this new function.\n",
    "- Highlighted in <font color=\"#648FFF\">blue</font> are the nmrPype folders.\n",
    "- Highlighted in <font color=\"#FFB000\">yellow</font> is the new file. \n",
    "- Highlighted in <font color=\"#785EF0\">purple</font> are files needed to be edited."
   ]
  },
  {
   "cell_type": "markdown",
   "metadata": {},
   "source": [
    "<pre>\n",
    "<font color=\"#648FFF\"><b>nmrPype<b></font>\n",
    "├── <font color=\"#648FFF\"><b>fn</b></font> <font color=\"#808080\"><em>PUT YOUR FUNCTION IN THIS FOLDER</em></font>\n",
    "│   ├── \n",
    "│   ├── DI.py\n",
    "│   ├── FT.py\n",
    "│   ├── function.py\n",
    "│   ├── <font color=\"#FFB000\">FLIP.py</font>\n",
    "│   ├── <font color=\"#785EF0\">__init__.py</font>\n",
    "│   ├── PS.py\n",
    "│   ├── SP.py\n",
    "│   ├── TP.py\n",
    "│   └── ZF.py\n",
    "├── __init__.py\n",
    "├── <font color=\"#648FFF\"><b>nmrio</b></font>\n",
    "│   ├── fileiobase.py\n",
    "│   ├── __init__.py\n",
    "│   ├── read.py\n",
    "│   └── write.py\n",
    "├── <font color=\"#648FFF\"><b>parse</b></font>\n",
    "│   ├── __init__.py\n",
    "│   └── parser.py\n",
    "├── pype.py\n",
    "└── <font color=\"#648FFF\"><b>utils</b></font>\n",
    "    ├── DataFrame.py\n",
    "    ├── errorHandler.py\n",
    "    ├── <font color=\"#648FFF\"><b>fdata</b></font>\n",
    "    │   ├── datamanip.py\n",
    "    │   └── __init__.py\n",
    "    └── __init__.py\n",
    "</pre>"
   ]
  },
  {
   "cell_type": "markdown",
   "metadata": {},
   "source": [
    "Based on how the parser is handled, it is not necessary to modify the parser for additional command-line arguments. Later in this tutorial you will see how to format the command-line arguments."
   ]
  },
  {
   "cell_type": "markdown",
   "metadata": {},
   "source": [
    "## 2. Creating the function's .py file"
   ]
  },
  {
   "cell_type": "markdown",
   "metadata": {},
   "source": [
    "When creating the .py file, it is advised to follow the [function template](../nmrPype/fn/function.py). Essentially, each function python file should have a class that overloads the DataFunction class. Then, the class should have the \\_\\_init\\_\\_ function, and an initialize function, a process function, an updateHeader function, and a command-line argument function. You are free to also create child functions of run, and parallelize to your needs.\n",
    "\n",
    "Below is an overview of each function in addition to the implementation for FLIP. The Command-line arguments function will have its own section."
   ]
  },
  {
   "cell_type": "markdown",
   "metadata": {},
   "source": [
    "### Note"
   ]
  },
  {
   "cell_type": "markdown",
   "metadata": {},
   "source": [
    "The standard includes are as follows:\n",
    "```python\n",
    "from .function import DataFunction as Function\n",
    "import numpy as np\n",
    "\n",
    "# type Imports/Definitions\n",
    "from ..utils import DataFrame\n",
    "\n",
    "# Multiprocessing imports\n",
    "from multiprocessing import Pool, TimeoutError\n",
    "from concurrent.futures import ThreadPoolExecutor\n",
    "```"
   ]
  },
  {
   "cell_type": "markdown",
   "metadata": {},
   "source": [
    "### a. \\_\\_init\\_\\_"
   ]
  },
  {
   "cell_type": "markdown",
   "metadata": {},
   "source": [
    "The init function should take the self as a parameter as well as all of the arguments a function should have. Additionally, the arguments for multiprocessing *(mp_enable, mp_proc, and mp_threads)* should all be included **Even if the function does not use multiprocessing.** Check the example for what to do with the multiprocessing arguments.\n",
    "\n",
    "All of the parameters for the function should start with a lowercase version of the function followed by an underscore and then the name of the parameter. Additionally, all parameters should have a default assignment. For example, for the Fourier Transform function, the inverse fourier transform parameter would be labelled as `ft_inv`. Then, since it is a toggle, the argument will be a boolean that is false by default. Thus, `ft_inv : bool = False` will be the argument passed to \\_\\_init\\_\\_. \n",
    "\n",
    "Below is the example for the FLIP function:\n",
    "```python\n",
    "\n",
    "def __init__(self, flip_zero : bool = False, flip_shift: bool = False,\n",
    "             mp_enable : bool = False, mp_proc : int = 0, mp_threads : int = 0):\n",
    "\n",
    "        # Technically you can call these class arguments whatever you want, but I usually like to keep them consistent\n",
    "        self.flip_zero = flip_zero # Flip zero will flip the entire data, including the zeros \n",
    "        self.flip_shift = flip_shift # Flip shift will shift the data by 1 value to the right\n",
    "        \n",
    "        # Format the multi-processing \n",
    "        self.mp = [mp_enable, mp_proc, mp_threads]\n",
    "\n",
    "        # Load the parent's constructor using the params from the function to help users that utilize notebooks\n",
    "        params = {'flip_zero':flip_zero, 'flip_shift':flip_shift}\n",
    "        super().__init__(params)\n",
    "``` "
   ]
  },
  {
   "cell_type": "markdown",
   "metadata": {},
   "source": [
    "### b. initialize"
   ]
  },
  {
   "cell_type": "markdown",
   "metadata": {},
   "source": [
    "Initialize updates header values and parameters, as well as prepare for processing.\n",
    "\n",
    "Initialization follows the following steps:\n",
    "- Handle function specific arguments\n",
    "- Update any header values before any calculations occur\n",
    "    that are independent of the data, such as flags and parameter storage\n",
    "\n",
    "The initialize function takes the DataFrame as an argument and does not return anything.\n",
    "\n",
    "Below is an example of the initialize for the function FLIP:"
   ]
  },
  {
   "cell_type": "markdown",
   "metadata": {},
   "source": [
    "```python\n",
    "def initialize(self, data : DataFrame):\n",
    "    \"\"\"\n",
    "    Your initalize docstring goes here \n",
    "\n",
    "    Parameters\n",
    "    ----------\n",
    "    data : DataFrame\n",
    "        Target data to manipulate \n",
    "    \"\"\"\n",
    "\n",
    "    currDim = data.getCurrDim() # Collect directly detected dimension of the data\n",
    "\n",
    "    # Note: NDFLIPFLAG is not a real header parameter, but this is being shown for demonstrative purposes\n",
    "    flipFlag = bool(data.getParam('NDFLIPFLAG', currDim))\n",
    "\n",
    "    # Invert flip flag\n",
    "    flipFlag = not flipFlag\n",
    "\n",
    "    # Change zero length if needed\n",
    "    self.zero_length = 0 if self.flip_zero else int(data.getParam('NDZF', data.getCurrDim()))\n",
    "\n",
    "    # Set flip flag\n",
    "    data.setParam('NDFLIPFLAG', float(flipFlag), currDim)\n",
    "    \n",
    "```\n",
    "\n"
   ]
  },
  {
   "cell_type": "markdown",
   "metadata": {
    "vscode": {
     "languageId": "plaintext"
    }
   },
   "source": [
    "### c. process"
   ]
  },
  {
   "cell_type": "markdown",
   "metadata": {},
   "source": [
    "The process function is the main body of the code. It is called by the parent function's `run` function. By default, the function takes the data array and returns a data array as arguments. If you want to pass the process function other arguments, you will have to change the `run` function.\n",
    "\n",
    "Below is an example of the process function for the function FLIP:"
   ]
  },
  {
   "cell_type": "markdown",
   "metadata": {},
   "source": [
    "```python\n",
    "def process(self, array : np.ndarray) -> np.ndarray:\n",
    "    \"\"\"\n",
    "    Enter your docstring here\n",
    "\n",
    "    Parameters\n",
    "    ----------\n",
    "    array : ndarray\n",
    "        Target data array to process with function\n",
    "\n",
    "    Returns\n",
    "    -------\n",
    "    ndarray\n",
    "        Updated array after function operation\n",
    "    \"\"\"\n",
    "    \n",
    "    zeroes = self.zero_length\n",
    "    \n",
    "    # This is my recommended way to process each array individually at a time. This is for compatibility with the C version,\n",
    "    #   but if you don't plan to use the C version in your schemes then it should be fine to use other methods\n",
    "    it = np.nditer(array, flags=['external_loop','buffered'], op_flags=['readwrite'], buffersize=array.shape[-1], order='C')\n",
    "        with it:\n",
    "            for x in it:\n",
    "                # Only flip the non-zero portion if zeros is disabled\n",
    "                x[...] = np.flip(x) if not zeroes else np.concatenate([np.flip(x[:zeroes]), x[zeroes:]])\n",
    "                # Shift to the right by 1 if shift is enabled\n",
    "                if self.flip_shift:\n",
    "                    x[...] = np.roll(x, 1)\n",
    "    \n",
    "    return array\n",
    "```"
   ]
  },
  {
   "cell_type": "markdown",
   "metadata": {
    "vscode": {
     "languageId": "plaintext"
    }
   },
   "source": [
    "### d. updateHeader"
   ]
  },
  {
   "cell_type": "markdown",
   "metadata": {
    "vscode": {
     "languageId": "plaintext"
    }
   },
   "source": [
    "Lastly for this section, if there are any specific flags in the header that need to be updated *AFTER* processing, this function would be the one it is done in. It takes in a dataframe as an argument and returns nothing.\n",
    "\n",
    "For our FLIP example, we will not need to update the header after the processing, so the parent function is sufficient."
   ]
  },
  {
   "cell_type": "markdown",
   "metadata": {},
   "source": [
    "## 3. Command-Line Arguments"
   ]
  },
  {
   "cell_type": "markdown",
   "metadata": {},
   "source": [
    "Without the command-line arguments function, the function is now completely possible to use in python scripts and jupyter notebooks. However, in order to allow support for running the function in the command line, the function `clArgs` needs to be implemented. The function `clArgs` is called from the parser, and adds a subparser. Here is a breakdown on how to set-up the `clArgs` function using our function FLIP:"
   ]
  },
  {
   "cell_type": "markdown",
   "metadata": {},
   "source": [
    "For thte function declaration, ensure that the function is labelled with the `@staticmethod` decorator. The function should take two arguments, the `subparser`, and the `parent_parser`.\n",
    "```python\n",
    "@staticmethod\n",
    "def clArgs(subparser, parent_parser):\n",
    "```"
   ]
  },
  {
   "cell_type": "markdown",
   "metadata": {},
   "source": [
    "For the addition of subparser, there are several things to note:\n",
    "- The name of the parser is what the user will utilize \n",
    "- If you would like to use multiple aliases, pass a list of strings to the add parser function with an `aliases` keyword\n",
    "- Include `parent_parser` in a list with the `parents` keyword, as seen below to allow for all of the default arguments\n",
    "- Include a help string!\n",
    "```python\n",
    "FLIP = subparser.add_parser('FLIP', parents=[parent_parser], help='Reverse the direction of the data.')\n",
    "```"
   ]
  },
  {
   "cell_type": "markdown",
   "metadata": {},
   "source": [
    "For adding arguments, refer to argParse [documentation](https://docs.python.org/3/library/argparse.html) for all of the options. What is important to know for nmrPype:\n",
    "\n",
    "- **MOST IMPORTANT:** Set a destination for the data to be stored by using the dest argument. These should match the parameters used when initializing the function. For example, the shift parameter with `flip_shift` parameter should be stored in the `flip_shift` destination.\n",
    "- You can use multiple aliases, but make sure that they are long enough not to conflict with default arguments. Secondly, longer-names should start with two hyphens, and do not use spaces. An example is an inverse parameter: `'-inv', '--inverse', '--inverse-function`.\n",
    "- Include a help string!\n",
    "\n",
    "```python\n",
    "\n",
    "FLIP.add_argument('-zero', action='store_true', dest='flip_zero', help='Flip the entire data, including the zeros')\n",
    "FLIP.add_argument('-shift', action='store_true', dest='flip_shift', help='Shift the data by to the right value of 1')\n",
    "```"
   ]
  },
  {
   "cell_type": "markdown",
   "metadata": {},
   "source": [
    "## 2a. FLIP.py overview\n",
    "\n",
    "Here is what the FLIP.py would look like:"
   ]
  },
  {
   "cell_type": "code",
   "execution_count": 2,
   "metadata": {},
   "outputs": [],
   "source": [
    "# Do not use the import below, this is for the notebook. Use this instead:\n",
    "# from .function import DataFunction as Function < Original Import\n",
    "from nmrPype.fn.function import DataFunction as Function\n",
    "\n",
    "import numpy as np\n",
    "\n",
    "# Do not use the import below, this is for the notebook. Use this instead:\n",
    "# from ..utils import DataFrame < Original Import\n",
    "from nmrPype.utils import DataFrame\n",
    "\n",
    "\n",
    "# Multiprocessing imports\n",
    "from multiprocessing import Pool, TimeoutError\n",
    "from concurrent.futures import ThreadPoolExecutor\n",
    "\n",
    "class Flip(Function):\n",
    "    def __init__(self, flip_zero : bool = False, flip_shift: bool = False,\n",
    "             mp_enable : bool = False, mp_proc : int = 0, mp_threads : int = 0):\n",
    "\n",
    "        # Technically you can call these class arguments whatever you want, but I usually like to keep them consistent\n",
    "        self.flip_zero = flip_zero # Flip zero will flip the entire data, including the zeros \n",
    "        self.flip_shift = flip_shift # Flip shift will shift the data by 1 value to the right\n",
    "        self.zero_length = 0 # Size of zero-fill represented as a negative value\n",
    "        \n",
    "        # Format the multi-processing \n",
    "        self.mp = [mp_enable, mp_proc, mp_threads]\n",
    "        # Load the parent's constructor using the params from the function to help users that utilize notebooks\n",
    "        params = {'flip_zero':flip_zero, 'flip_shift':flip_shift}\n",
    "        super().__init__(params)\n",
    "\n",
    "    def initialize(self, data : DataFrame):\n",
    "        \"\"\"\n",
    "        Your initalize docstring goes here \n",
    "\n",
    "        Parameters\n",
    "        ----------\n",
    "        data : DataFrame\n",
    "            Target data to manipulate \n",
    "        \"\"\"\n",
    "\n",
    "        currDim = data.getCurrDim() # Collect directly detected dimension of the data\n",
    "\n",
    "        # Note: NDFLIPFLAG is not a real header parameter, but this is being shown for demonstrative purposes\n",
    "        flipFlag = bool(data.getParam('NDFLIPFLAG', currDim))\n",
    "\n",
    "        # Invert flip flag\n",
    "        flipFlag = not flipFlag\n",
    "\n",
    "        # Change zero length if needed\n",
    "        self.zero_length = 0 if self.flip_zero else int(data.getParam('NDZF', data.getCurrDim()))\n",
    "\n",
    "        # Set flip flag\n",
    "        data.setParam('NDFLIPFLAG', float(flipFlag), currDim)\n",
    "\n",
    "    def process(self, array : np.ndarray) -> np.ndarray:\n",
    "        \"\"\"\n",
    "        Enter your docstring here\n",
    "\n",
    "        Parameters\n",
    "        ----------\n",
    "        array : ndarray\n",
    "            Target data array to process with function\n",
    "\n",
    "        Returns\n",
    "        -------\n",
    "        ndarray\n",
    "            Updated array after function operation\n",
    "        \"\"\"\n",
    "\n",
    "        zeroes = self.zero_length\n",
    "\n",
    "        # This is my recommended way to process each array individually at a time. This is for compatibility with the C version,\n",
    "        #   but if you don't plan to use the C version in your schemes then it should be fine to use other methods\n",
    "        it = np.nditer(array, flags=['external_loop','buffered'], op_flags=['readwrite'], buffersize=array.shape[-1], order='C')\n",
    "        with it:\n",
    "            for x in it:\n",
    "                # Only flip the non-zero portion if zeros is disabled\n",
    "                x[...] = np.flip(x) if not zeroes else np.concatenate([np.flip(x[:zeroes]), x[zeroes:]])\n",
    "                # Shift to the right by 1 if shift is enabled\n",
    "                if self.flip_shift:\n",
    "                    x[...] = np.roll(x, 1)\n",
    "\n",
    "        return array\n",
    "    \n",
    "    @staticmethod\n",
    "    def clArgs(subparser, parent_parser):\n",
    "        \"\"\"\n",
    "        Doc string goes here\n",
    "        \"\"\"\n",
    "        FLIP = subparser.add_parser('FLIP', parents=[parent_parser], help='Reverse the direction of the data.')\n",
    "        FLIP.add_argument('-zero', action='store_true', dest='flip_zero', help='Flip the entire data, including the zeros')\n",
    "        FLIP.add_argument('-shift', action='store_true', dest='flip_shift', help='Shift the data by to the right value of 1')\n"
   ]
  },
  {
   "cell_type": "markdown",
   "metadata": {},
   "source": [
    "## 4. Editing the \\_\\_init\\_\\_.py file"
   ]
  },
  {
   "cell_type": "markdown",
   "metadata": {},
   "source": [
    "The `fn/__init__.py` file has three parts: the import, the function dictionary, and the \\_\\_all\\_\\_ list. The import list obtains all of the function classes from within the fn folder, and aliases them accordingly. The function dictionary is used by the parser to specify where to look for command parameters. The \\_\\_all\\_\\_ list is used by python to identify what modules should be exported by the wildcard import."
   ]
  },
  {
   "cell_type": "markdown",
   "metadata": {},
   "source": [
    "First, for the import portion, add your function's class to the list of imports. \n",
    "**NOTE:** Make sure that the class is imported as an all-caps short abbreviation, the same as the one used for the command-line function call. You can alias the class using the `from x import y as z` python to ensure this."
   ]
  },
  {
   "cell_type": "markdown",
   "metadata": {},
   "source": [
    "```python\n",
    "from .function import DataFunction\n",
    "from .FT import FourierTransform as FT\n",
    "from .ZF import ZeroFill as ZF\n",
    "·\n",
    "·\n",
    "·\n",
    "from .DI import DeleteImaginary as DI\n",
    "from .TP import Transpose4D as ATP\n",
    "from .FLIP import Flip as FLIP # Our FLIP function added to the imports\n",
    "```"
   ]
  },
  {
   "cell_type": "markdown",
   "metadata": {},
   "source": [
    "Then, for the dictionary function, add your function the dictionary with the key being the code used and the value being the function imported. In most cases, these two will be the same, with the key being a string. \n",
    "**NOTE:** If your function has multiple aliases, insert each alias into the list as different keys that have the same function value."
   ]
  },
  {
   "cell_type": "markdown",
   "metadata": {},
   "source": [
    "```python\n",
    "fn_list = {\n",
    "    'function':DataFunction,\n",
    "    'NULL':DataFunction,\n",
    "    'FT':FT,\n",
    "    'ZF':ZF,\n",
    "    'DI':DI,\n",
    "    'SP':SP,\n",
    "    'PS':PS,\n",
    "    'TP':YTP, 'YTP':YTP, 'XY2YX':YTP,\n",
    "    'ZTP':ZTP, 'XYZ2ZYX':ZTP,\n",
    "    'ATP':ATP, 'XYZA2AYZX':ATP,\n",
    "    'FLIP':FLIP} # Our new function is added here, the command-line function call is the same as the name of the function class\n",
    "```"
   ]
  },
  {
   "cell_type": "markdown",
   "metadata": {},
   "source": [
    "Lastly, add the function *CLASS* to the \\_\\_all\\_\\_ list. The class is what was imported in the first part, and not the code used by the command-line. If they are named the same as I recommend, then you will not find any issues here. Functions with multiple aliases should only appear here *once*."
   ]
  },
  {
   "cell_type": "markdown",
   "metadata": {},
   "source": [
    "```python\n",
    "__all__ = ['DataFunction', 'FT', 'ZF', \n",
    "           'DI','SP', 'PS', \n",
    "           'YTP', 'ZTP', 'ATP',\n",
    "           'FLIP'] # Our new function is added to the list for export.\n",
    "```"
   ]
  },
  {
   "cell_type": "markdown",
   "metadata": {},
   "source": [
    "## 5. Publishing your new Function"
   ]
  },
  {
   "cell_type": "markdown",
   "metadata": {},
   "source": [
    "The best way to share your new function with others is to create a [fork](https://docs.github.com/articles/fork-a-repo) of the nmrPype [repository](https://github.com/PhiMykah/nmrpype). Check the link for more details on how fork works with git. It may reach the main branch as well depending on the new feature!"
   ]
  }
 ],
 "metadata": {
  "kernelspec": {
   "display_name": "nmrpype",
   "language": "python",
   "name": "python3"
  },
  "language_info": {
   "codemirror_mode": {
    "name": "ipython",
    "version": 3
   },
   "file_extension": ".py",
   "mimetype": "text/x-python",
   "name": "python",
   "nbconvert_exporter": "python",
   "pygments_lexer": "ipython3",
   "version": "3.12.0"
  }
 },
 "nbformat": 4,
 "nbformat_minor": 2
}
