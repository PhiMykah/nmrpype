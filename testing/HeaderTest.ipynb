{
 "cells": [
  {
   "cell_type": "code",
   "execution_count": 1,
   "metadata": {},
   "outputs": [],
   "source": [
    "import os, sys\n",
    "os.chdir('..')\n",
    "from utils.nmrData import *\n",
    "import matplotlib.pyplot as plt"
   ]
  },
  {
   "cell_type": "code",
   "execution_count": 2,
   "metadata": {},
   "outputs": [],
   "source": [
    "def printParams(data):\n",
    "    params = ['FDMAX','FDMIN',\n",
    "          'FDDISPMAX','FDDISPMIN',\n",
    "          'FDF2APOD','FDF2FTFLAG',\n",
    "          'FDF2ZF','FDF2FTSIZE',\n",
    "          'FDF2TDSIZE']\n",
    "    for param in params:\n",
    "        print(\"{:<12} {:>15}\".format(param, data.getParam(param)))\n"
   ]
  },
  {
   "cell_type": "code",
   "execution_count": 3,
   "metadata": {},
   "outputs": [
    {
     "name": "stdout",
     "output_type": "stream",
     "text": [
      "FDMAX            103166128.0\n",
      "FDMIN            -82282248.0\n",
      "FDDISPMAX        103166128.0\n",
      "FDDISPMIN        -82282248.0\n",
      "FDF2APOD             16384.0\n",
      "FDF2FTFLAG               0.0\n",
      "FDF2ZF                   0.0\n",
      "FDF2FTSIZE               0.0\n",
      "FDF2TDSIZE           16384.0\n"
     ]
    }
   ],
   "source": [
    "data = NMRData('hf/h.fid')\n",
    "printParams(data)"
   ]
  },
  {
   "cell_type": "code",
   "execution_count": 4,
   "metadata": {},
   "outputs": [
    {
     "name": "stdout",
     "output_type": "stream",
     "text": [
      "FDMAX            103166128.0\n",
      "FDMIN            -82282248.0\n",
      "FDDISPMAX        103166128.0\n",
      "FDDISPMIN        -82282248.0\n",
      "FDF2APOD             16384.0\n",
      "FDF2FTFLAG               0.0\n",
      "FDF2ZF              -32768.0\n",
      "FDF2FTSIZE               0.0\n",
      "FDF2TDSIZE           16384.0\n"
     ]
    }
   ],
   "source": [
    "data.fnZeroFill()\n",
    "printParams(data)"
   ]
  },
  {
   "cell_type": "code",
   "execution_count": 5,
   "metadata": {},
   "outputs": [
    {
     "name": "stdout",
     "output_type": "stream",
     "text": [
      "FDMAX            103166128.0\n",
      "FDMIN            -82282248.0\n",
      "FDDISPMAX        103166128.0\n",
      "FDDISPMIN        -82282248.0\n",
      "FDF2APOD             16384.0\n",
      "FDF2FTFLAG               1.0\n",
      "FDF2ZF              -32768.0\n",
      "FDF2FTSIZE           32768.0\n",
      "FDF2TDSIZE           16384.0\n"
     ]
    }
   ],
   "source": [
    "data.fnFourierTransform()\n",
    "printParams(data)"
   ]
  }
 ],
 "metadata": {
  "kernelspec": {
   "display_name": "Python 3",
   "language": "python",
   "name": "python3"
  },
  "language_info": {
   "codemirror_mode": {
    "name": "ipython",
    "version": 3
   },
   "file_extension": ".py",
   "mimetype": "text/x-python",
   "name": "python",
   "nbconvert_exporter": "python",
   "pygments_lexer": "ipython3",
   "version": "3.11.7"
  }
 },
 "nbformat": 4,
 "nbformat_minor": 2
}
